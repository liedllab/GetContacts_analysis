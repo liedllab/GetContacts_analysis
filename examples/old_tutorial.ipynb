{
 "cells": [
  {
   "cell_type": "markdown",
   "id": "7c9d1612",
   "metadata": {},
   "source": [
    "# GetContacts flareplots, fingerprints and heatmaps"
   ]
  },
  {
   "cell_type": "code",
   "execution_count": 1,
   "id": "9416a296",
   "metadata": {},
   "outputs": [],
   "source": [
    "import pandas as pd\n",
    "from gc_analysis import freq"
   ]
  },
  {
   "cell_type": "markdown",
   "id": "448d21b9-f065-4707-8582-fa2d0358be27",
   "metadata": {},
   "source": [
    "# Preparation\n",
    "## Load the data"
   ]
  },
  {
   "cell_type": "markdown",
   "id": "01fc0f4c",
   "metadata": {},
   "source": [
    "At first all frequencies are calculated using **GetContacts**.\n",
    "More information can be found on their github page:\n",
    "    https://getcontacts.github.io/.\n",
    "\n",
    "For the calculation only the interaction type was specified but no selection. The selection will be chosen later on in this script."
   ]
  },
  {
   "cell_type": "code",
   "execution_count": 2,
   "id": "3cdbd415",
   "metadata": {},
   "outputs": [
    {
     "name": "stderr",
     "output_type": "stream",
     "text": [
      "/Users/janik/Documents/GetContacts_analysis/gc_analysis/freq.py:103: UserWarning: Please consider using `read_tsv` instead.\n",
      "  warnings.warn(\"Please consider using `read_tsv` instead.\")\n"
     ]
    }
   ],
   "source": [
    "all_freq_ab1 = freq.Frequency.from_tsv(\n",
    "    filename = './data/wt_freq.tsv', \n",
    "    interaction = 'vdw', \n",
    "    name = 'Wildtype'\n",
    ")"
   ]
  },
  {
   "cell_type": "markdown",
   "id": "27a4f4de",
   "metadata": {},
   "source": [
    "Here are some of the attributes of the `Frequency` instance shown."
   ]
  },
  {
   "cell_type": "code",
   "execution_count": 3,
   "id": "fd904f89",
   "metadata": {},
   "outputs": [
    {
     "data": {
      "text/html": [
       "<div>\n",
       "<style scoped>\n",
       "    .dataframe tbody tr th:only-of-type {\n",
       "        vertical-align: middle;\n",
       "    }\n",
       "\n",
       "    .dataframe tbody tr th {\n",
       "        vertical-align: top;\n",
       "    }\n",
       "\n",
       "    .dataframe thead th {\n",
       "        text-align: right;\n",
       "    }\n",
       "</style>\n",
       "<table border=\"1\" class=\"dataframe\">\n",
       "  <thead>\n",
       "    <tr style=\"text-align: right;\">\n",
       "      <th></th>\n",
       "      <th>res 1</th>\n",
       "      <th>number 1</th>\n",
       "      <th>res 2</th>\n",
       "      <th>number 2</th>\n",
       "      <th>contact_frequency</th>\n",
       "    </tr>\n",
       "  </thead>\n",
       "  <tbody>\n",
       "    <tr>\n",
       "      <th>0</th>\n",
       "      <td>PRO</td>\n",
       "      <td>386</td>\n",
       "      <td>SER</td>\n",
       "      <td>163</td>\n",
       "      <td>0.583</td>\n",
       "    </tr>\n",
       "    <tr>\n",
       "      <th>1</th>\n",
       "      <td>PHE</td>\n",
       "      <td>385</td>\n",
       "      <td>SER</td>\n",
       "      <td>177</td>\n",
       "      <td>0.930</td>\n",
       "    </tr>\n",
       "    <tr>\n",
       "      <th>2</th>\n",
       "      <td>PHE</td>\n",
       "      <td>117</td>\n",
       "      <td>SER</td>\n",
       "      <td>351</td>\n",
       "      <td>0.265</td>\n",
       "    </tr>\n",
       "    <tr>\n",
       "      <th>3</th>\n",
       "      <td>TYR</td>\n",
       "      <td>317</td>\n",
       "      <td>TYR</td>\n",
       "      <td>92</td>\n",
       "      <td>0.965</td>\n",
       "    </tr>\n",
       "    <tr>\n",
       "      <th>4</th>\n",
       "      <td>PRO</td>\n",
       "      <td>342</td>\n",
       "      <td>SER</td>\n",
       "      <td>122</td>\n",
       "      <td>0.805</td>\n",
       "    </tr>\n",
       "    <tr>\n",
       "      <th>...</th>\n",
       "      <td>...</td>\n",
       "      <td>...</td>\n",
       "      <td>...</td>\n",
       "      <td>...</td>\n",
       "      <td>...</td>\n",
       "    </tr>\n",
       "    <tr>\n",
       "      <th>358</th>\n",
       "      <td>LYS</td>\n",
       "      <td>258</td>\n",
       "      <td>LYS</td>\n",
       "      <td>40</td>\n",
       "      <td>0.000</td>\n",
       "    </tr>\n",
       "    <tr>\n",
       "      <th>359</th>\n",
       "      <td>GLU</td>\n",
       "      <td>1</td>\n",
       "      <td>GLU</td>\n",
       "      <td>303</td>\n",
       "      <td>0.000</td>\n",
       "    </tr>\n",
       "    <tr>\n",
       "      <th>360</th>\n",
       "      <td>ILE</td>\n",
       "      <td>2</td>\n",
       "      <td>LEU</td>\n",
       "      <td>260</td>\n",
       "      <td>0.000</td>\n",
       "    </tr>\n",
       "    <tr>\n",
       "      <th>361</th>\n",
       "      <td>GLY</td>\n",
       "      <td>257</td>\n",
       "      <td>ILE</td>\n",
       "      <td>2</td>\n",
       "      <td>0.000</td>\n",
       "    </tr>\n",
       "    <tr>\n",
       "      <th>362</th>\n",
       "      <td>THR</td>\n",
       "      <td>354</td>\n",
       "      <td>VAL</td>\n",
       "      <td>116</td>\n",
       "      <td>0.000</td>\n",
       "    </tr>\n",
       "  </tbody>\n",
       "</table>\n",
       "<p>363 rows × 5 columns</p>\n",
       "</div>"
      ],
      "text/plain": [
       "    res 1  number 1 res 2  number 2  contact_frequency\n",
       "0     PRO       386   SER       163              0.583\n",
       "1     PHE       385   SER       177              0.930\n",
       "2     PHE       117   SER       351              0.265\n",
       "3     TYR       317   TYR        92              0.965\n",
       "4     PRO       342   SER       122              0.805\n",
       "..    ...       ...   ...       ...                ...\n",
       "358   LYS       258   LYS        40              0.000\n",
       "359   GLU         1   GLU       303              0.000\n",
       "360   ILE         2   LEU       260              0.000\n",
       "361   GLY       257   ILE         2              0.000\n",
       "362   THR       354   VAL       116              0.000\n",
       "\n",
       "[363 rows x 5 columns]"
      ]
     },
     "execution_count": 3,
     "metadata": {},
     "output_type": "execute_result"
    }
   ],
   "source": [
    "all_freq_ab1.df"
   ]
  },
  {
   "cell_type": "code",
   "execution_count": 4,
   "id": "24258d3d",
   "metadata": {},
   "outputs": [
    {
     "data": {
      "text/plain": [
       "'vdw'"
      ]
     },
     "execution_count": 4,
     "metadata": {},
     "output_type": "execute_result"
    }
   ],
   "source": [
    "all_freq_ab1.interaction"
   ]
  },
  {
   "cell_type": "code",
   "execution_count": 5,
   "id": "8cd83635",
   "metadata": {},
   "outputs": [],
   "source": [
    "all_freq_ab1.selection"
   ]
  },
  {
   "cell_type": "code",
   "execution_count": 6,
   "id": "8b98b51d",
   "metadata": {},
   "outputs": [
    {
     "data": {
      "text/plain": [
       "'./data/wt_freq.tsv'"
      ]
     },
     "execution_count": 6,
     "metadata": {},
     "output_type": "execute_result"
    }
   ],
   "source": [
    "all_freq_ab1.filename"
   ]
  },
  {
   "cell_type": "code",
   "execution_count": 7,
   "id": "559db20d",
   "metadata": {},
   "outputs": [
    {
     "name": "stdout",
     "output_type": "stream",
     "text": [
      "System:\t\t\tWildtype\n",
      "                Interactiontype:\tvdw\n",
      "                Frequencies from:\t./data/wt_freq.tsv\n"
     ]
    }
   ],
   "source": [
    "all_freq_ab1.info()"
   ]
  },
  {
   "cell_type": "markdown",
   "id": "cf5133d6-7de2-4f49-95ff-93eab445d6db",
   "metadata": {},
   "source": [
    "## Choose a selection"
   ]
  },
  {
   "cell_type": "markdown",
   "id": "c495be55",
   "metadata": {},
   "source": [
    "The `Frequency.select` method allows the selection of one or two ranges of residues. The method returns a new `Frequency` instance.\n",
    "\n",
    "The first range of residues is passed as `(start_residue, end_residue)`. Optionally, a second range can be passed."
   ]
  },
  {
   "cell_type": "code",
   "execution_count": 8,
   "id": "2c94acb6",
   "metadata": {},
   "outputs": [
    {
     "name": "stderr",
     "output_type": "stream",
     "text": [
      "/Users/janik/Documents/GetContacts_analysis/gc_analysis/freq.py:127: UserWarning: Please consider using `select` instead.\n",
      "  warnings.warn(\"Please consider using `select` instead.\")\n"
     ]
    },
    {
     "data": {
      "text/html": [
       "<div>\n",
       "<style scoped>\n",
       "    .dataframe tbody tr th:only-of-type {\n",
       "        vertical-align: middle;\n",
       "    }\n",
       "\n",
       "    .dataframe tbody tr th {\n",
       "        vertical-align: top;\n",
       "    }\n",
       "\n",
       "    .dataframe thead th {\n",
       "        text-align: right;\n",
       "    }\n",
       "</style>\n",
       "<table border=\"1\" class=\"dataframe\">\n",
       "  <thead>\n",
       "    <tr style=\"text-align: right;\">\n",
       "      <th></th>\n",
       "      <th>res 1</th>\n",
       "      <th>number 1</th>\n",
       "      <th>res 2</th>\n",
       "      <th>number 2</th>\n",
       "      <th>contact_frequency</th>\n",
       "    </tr>\n",
       "  </thead>\n",
       "  <tbody>\n",
       "    <tr>\n",
       "      <th>3</th>\n",
       "      <td>TYR</td>\n",
       "      <td>317</td>\n",
       "      <td>TYR</td>\n",
       "      <td>92</td>\n",
       "      <td>0.965</td>\n",
       "    </tr>\n",
       "    <tr>\n",
       "      <th>5</th>\n",
       "      <td>LEU</td>\n",
       "      <td>47</td>\n",
       "      <td>TYR</td>\n",
       "      <td>318</td>\n",
       "      <td>0.885</td>\n",
       "    </tr>\n",
       "    <tr>\n",
       "      <th>22</th>\n",
       "      <td>TYR</td>\n",
       "      <td>318</td>\n",
       "      <td>TYR</td>\n",
       "      <td>50</td>\n",
       "      <td>0.937</td>\n",
       "    </tr>\n",
       "    <tr>\n",
       "      <th>26</th>\n",
       "      <td>PHE</td>\n",
       "      <td>319</td>\n",
       "      <td>TYR</td>\n",
       "      <td>37</td>\n",
       "      <td>0.973</td>\n",
       "    </tr>\n",
       "    <tr>\n",
       "      <th>29</th>\n",
       "      <td>ARG</td>\n",
       "      <td>97</td>\n",
       "      <td>ASP</td>\n",
       "      <td>316</td>\n",
       "      <td>0.555</td>\n",
       "    </tr>\n",
       "  </tbody>\n",
       "</table>\n",
       "</div>"
      ],
      "text/plain": [
       "   res 1  number 1 res 2  number 2  contact_frequency\n",
       "3    TYR       317   TYR        92              0.965\n",
       "5    LEU        47   TYR       318              0.885\n",
       "22   TYR       318   TYR        50              0.937\n",
       "26   PHE       319   TYR        37              0.973\n",
       "29   ARG        97   ASP       316              0.555"
      ]
     },
     "execution_count": 8,
     "metadata": {},
     "output_type": "execute_result"
    }
   ],
   "source": [
    "some_freq_ab1 = all_freq_ab1.select((0,215), (313,321))\n",
    "some_freq_ab1.df.head()"
   ]
  },
  {
   "cell_type": "markdown",
   "id": "d63f6d69",
   "metadata": {},
   "source": [
    "Everything we have done so far can be repeated for a second datafile."
   ]
  },
  {
   "cell_type": "code",
   "execution_count": 9,
   "id": "2b908835",
   "metadata": {},
   "outputs": [
    {
     "name": "stderr",
     "output_type": "stream",
     "text": [
      "/Users/janik/Documents/GetContacts_analysis/gc_analysis/freq.py:103: UserWarning: Please consider using `read_tsv` instead.\n",
      "  warnings.warn(\"Please consider using `read_tsv` instead.\")\n",
      "/Users/janik/Documents/GetContacts_analysis/gc_analysis/freq.py:127: UserWarning: Please consider using `select` instead.\n",
      "  warnings.warn(\"Please consider using `select` instead.\")\n"
     ]
    },
    {
     "data": {
      "text/html": [
       "<div>\n",
       "<style scoped>\n",
       "    .dataframe tbody tr th:only-of-type {\n",
       "        vertical-align: middle;\n",
       "    }\n",
       "\n",
       "    .dataframe tbody tr th {\n",
       "        vertical-align: top;\n",
       "    }\n",
       "\n",
       "    .dataframe thead th {\n",
       "        text-align: right;\n",
       "    }\n",
       "</style>\n",
       "<table border=\"1\" class=\"dataframe\">\n",
       "  <thead>\n",
       "    <tr style=\"text-align: right;\">\n",
       "      <th></th>\n",
       "      <th>res 1</th>\n",
       "      <th>number 1</th>\n",
       "      <th>res 2</th>\n",
       "      <th>number 2</th>\n",
       "      <th>contact_frequency</th>\n",
       "    </tr>\n",
       "  </thead>\n",
       "  <tbody>\n",
       "    <tr>\n",
       "      <th>0</th>\n",
       "      <td>PHE</td>\n",
       "      <td>319</td>\n",
       "      <td>TYR</td>\n",
       "      <td>36</td>\n",
       "      <td>0.496</td>\n",
       "    </tr>\n",
       "    <tr>\n",
       "      <th>1</th>\n",
       "      <td>GLN</td>\n",
       "      <td>55</td>\n",
       "      <td>TYR</td>\n",
       "      <td>318</td>\n",
       "      <td>0.664</td>\n",
       "    </tr>\n",
       "    <tr>\n",
       "      <th>3</th>\n",
       "      <td>ASP</td>\n",
       "      <td>320</td>\n",
       "      <td>GLN</td>\n",
       "      <td>55</td>\n",
       "      <td>0.234</td>\n",
       "    </tr>\n",
       "    <tr>\n",
       "      <th>10</th>\n",
       "      <td>TYR</td>\n",
       "      <td>318</td>\n",
       "      <td>TYR</td>\n",
       "      <td>49</td>\n",
       "      <td>0.690</td>\n",
       "    </tr>\n",
       "    <tr>\n",
       "      <th>15</th>\n",
       "      <td>GLN</td>\n",
       "      <td>89</td>\n",
       "      <td>PHE</td>\n",
       "      <td>319</td>\n",
       "      <td>0.033</td>\n",
       "    </tr>\n",
       "  </tbody>\n",
       "</table>\n",
       "</div>"
      ],
      "text/plain": [
       "   res 1  number 1 res 2  number 2  contact_frequency\n",
       "0    PHE       319   TYR        36              0.496\n",
       "1    GLN        55   TYR       318              0.664\n",
       "3    ASP       320   GLN        55              0.234\n",
       "10   TYR       318   TYR        49              0.690\n",
       "15   GLN        89   PHE       319              0.033"
      ]
     },
     "execution_count": 9,
     "metadata": {},
     "output_type": "execute_result"
    }
   ],
   "source": [
    "all_freq_ab2 = freq.Frequency.from_tsv(\n",
    "    filename = './data/mt_freq.tsv', \n",
    "    interaction = 'vdw', \n",
    "    name = 'Mashup'\n",
    ")\n",
    "some_freq_ab2 = all_freq_ab2.select((0,215), (313,321))\n",
    "some_freq_ab2.df.head()"
   ]
  },
  {
   "cell_type": "code",
   "execution_count": 10,
   "id": "d161c8d5-de45-4545-adcf-754b956379a3",
   "metadata": {},
   "outputs": [
    {
     "data": {
      "text/plain": [
       "((0, 215), (313, 321))"
      ]
     },
     "execution_count": 10,
     "metadata": {},
     "output_type": "execute_result"
    }
   ],
   "source": [
    "some_freq_ab2.selection"
   ]
  },
  {
   "cell_type": "markdown",
   "id": "2843561d-90a3-45f0-88cb-404c2b478055",
   "metadata": {},
   "source": [
    "## Merge the data"
   ]
  },
  {
   "cell_type": "markdown",
   "id": "8116cedd",
   "metadata": {},
   "source": [
    "The data is stored as a `pandas.DataFrame` and can be accessed using the `Frequency.df` attribute. This way **pandas** can be used to conveniently merge the data.\n",
    "\n",
    "Here, all columns except the _contact_frequency_ are set as index and then merged using `pandas.concat`."
   ]
  },
  {
   "cell_type": "code",
   "execution_count": 11,
   "id": "f3ad7769",
   "metadata": {},
   "outputs": [
    {
     "data": {
      "text/html": [
       "<div>\n",
       "<style scoped>\n",
       "    .dataframe tbody tr th:only-of-type {\n",
       "        vertical-align: middle;\n",
       "    }\n",
       "\n",
       "    .dataframe tbody tr th {\n",
       "        vertical-align: top;\n",
       "    }\n",
       "\n",
       "    .dataframe thead th {\n",
       "        text-align: right;\n",
       "    }\n",
       "</style>\n",
       "<table border=\"1\" class=\"dataframe\">\n",
       "  <thead>\n",
       "    <tr style=\"text-align: right;\">\n",
       "      <th></th>\n",
       "      <th></th>\n",
       "      <th></th>\n",
       "      <th></th>\n",
       "      <th></th>\n",
       "      <th>contact_frequency</th>\n",
       "    </tr>\n",
       "    <tr>\n",
       "      <th></th>\n",
       "      <th>res 1</th>\n",
       "      <th>number 1</th>\n",
       "      <th>res 2</th>\n",
       "      <th>number 2</th>\n",
       "      <th></th>\n",
       "    </tr>\n",
       "  </thead>\n",
       "  <tbody>\n",
       "    <tr>\n",
       "      <th rowspan=\"5\" valign=\"top\">Wildtype</th>\n",
       "      <th>TYR</th>\n",
       "      <th>317</th>\n",
       "      <th>TYR</th>\n",
       "      <th>92</th>\n",
       "      <td>0.965</td>\n",
       "    </tr>\n",
       "    <tr>\n",
       "      <th>LEU</th>\n",
       "      <th>47</th>\n",
       "      <th>TYR</th>\n",
       "      <th>318</th>\n",
       "      <td>0.885</td>\n",
       "    </tr>\n",
       "    <tr>\n",
       "      <th>TYR</th>\n",
       "      <th>318</th>\n",
       "      <th>TYR</th>\n",
       "      <th>50</th>\n",
       "      <td>0.937</td>\n",
       "    </tr>\n",
       "    <tr>\n",
       "      <th>PHE</th>\n",
       "      <th>319</th>\n",
       "      <th>TYR</th>\n",
       "      <th>37</th>\n",
       "      <td>0.973</td>\n",
       "    </tr>\n",
       "    <tr>\n",
       "      <th>ARG</th>\n",
       "      <th>97</th>\n",
       "      <th>ASP</th>\n",
       "      <th>316</th>\n",
       "      <td>0.555</td>\n",
       "    </tr>\n",
       "    <tr>\n",
       "      <th>...</th>\n",
       "      <th>...</th>\n",
       "      <th>...</th>\n",
       "      <th>...</th>\n",
       "      <th>...</th>\n",
       "      <td>...</td>\n",
       "    </tr>\n",
       "    <tr>\n",
       "      <th rowspan=\"5\" valign=\"top\">Mashup</th>\n",
       "      <th>ASP</th>\n",
       "      <th>92</th>\n",
       "      <th>TYR</th>\n",
       "      <th>318</th>\n",
       "      <td>0.002</td>\n",
       "    </tr>\n",
       "    <tr>\n",
       "      <th>LEU</th>\n",
       "      <th>91</th>\n",
       "      <th>TRP</th>\n",
       "      <th>314</th>\n",
       "      <td>0.000</td>\n",
       "    </tr>\n",
       "    <tr>\n",
       "      <th>ASP</th>\n",
       "      <th>92</th>\n",
       "      <th>PHE</th>\n",
       "      <th>319</th>\n",
       "      <td>0.000</td>\n",
       "    </tr>\n",
       "    <tr>\n",
       "      <th>TRP</th>\n",
       "      <th>314</th>\n",
       "      <th>VAL</th>\n",
       "      <th>58</th>\n",
       "      <td>0.000</td>\n",
       "    </tr>\n",
       "    <tr>\n",
       "      <th>LYS</th>\n",
       "      <th>45</th>\n",
       "      <th>TRP</th>\n",
       "      <th>314</th>\n",
       "      <td>0.002</td>\n",
       "    </tr>\n",
       "  </tbody>\n",
       "</table>\n",
       "<p>159 rows × 1 columns</p>\n",
       "</div>"
      ],
      "text/plain": [
       "                                        contact_frequency\n",
       "         res 1 number 1 res 2 number 2                   \n",
       "Wildtype TYR   317      TYR   92                    0.965\n",
       "         LEU   47       TYR   318                   0.885\n",
       "         TYR   318      TYR   50                    0.937\n",
       "         PHE   319      TYR   37                    0.973\n",
       "         ARG   97       ASP   316                   0.555\n",
       "...                                                   ...\n",
       "Mashup   ASP   92       TYR   318                   0.002\n",
       "         LEU   91       TRP   314                   0.000\n",
       "         ASP   92       PHE   319                   0.000\n",
       "         TRP   314      VAL   58                    0.000\n",
       "         LYS   45       TRP   314                   0.002\n",
       "\n",
       "[159 rows x 1 columns]"
      ]
     },
     "execution_count": 11,
     "metadata": {},
     "output_type": "execute_result"
    }
   ],
   "source": [
    "df_concat = pd.concat(\n",
    "    [some_freq_ab1.df.set_index(keys=['res 1', 'number 1', 'res 2', 'number 2']),\n",
    "    some_freq_ab2.df.set_index(keys=['res 1', 'number 1', 'res 2', 'number 2'])],\n",
    "    keys = [some_freq_ab1.name, some_freq_ab2.name]\n",
    ")\n",
    "df_concat"
   ]
  },
  {
   "cell_type": "markdown",
   "id": "023ed61c",
   "metadata": {},
   "source": [
    "Now, the outermost indices _first_ and _second_ are unpacked into two columns with `pandas.unstack`."
   ]
  },
  {
   "cell_type": "code",
   "execution_count": 12,
   "id": "e27b029f",
   "metadata": {},
   "outputs": [
    {
     "data": {
      "text/html": [
       "<div>\n",
       "<style scoped>\n",
       "    .dataframe tbody tr th:only-of-type {\n",
       "        vertical-align: middle;\n",
       "    }\n",
       "\n",
       "    .dataframe tbody tr th {\n",
       "        vertical-align: top;\n",
       "    }\n",
       "\n",
       "    .dataframe thead tr th {\n",
       "        text-align: left;\n",
       "    }\n",
       "\n",
       "    .dataframe thead tr:last-of-type th {\n",
       "        text-align: right;\n",
       "    }\n",
       "</style>\n",
       "<table border=\"1\" class=\"dataframe\">\n",
       "  <thead>\n",
       "    <tr>\n",
       "      <th></th>\n",
       "      <th></th>\n",
       "      <th></th>\n",
       "      <th></th>\n",
       "      <th colspan=\"2\" halign=\"left\">contact_frequency</th>\n",
       "    </tr>\n",
       "    <tr>\n",
       "      <th></th>\n",
       "      <th></th>\n",
       "      <th></th>\n",
       "      <th></th>\n",
       "      <th>Wildtype</th>\n",
       "      <th>Mashup</th>\n",
       "    </tr>\n",
       "    <tr>\n",
       "      <th>res 1</th>\n",
       "      <th>number 1</th>\n",
       "      <th>res 2</th>\n",
       "      <th>number 2</th>\n",
       "      <th></th>\n",
       "      <th></th>\n",
       "    </tr>\n",
       "  </thead>\n",
       "  <tbody>\n",
       "    <tr>\n",
       "      <th rowspan=\"5\" valign=\"top\">ALA</th>\n",
       "      <th rowspan=\"2\" valign=\"top\">34</th>\n",
       "      <th rowspan=\"2\" valign=\"top\">TYR</th>\n",
       "      <th>317</th>\n",
       "      <td>0.000</td>\n",
       "      <td>0.008</td>\n",
       "    </tr>\n",
       "    <tr>\n",
       "      <th>318</th>\n",
       "      <td>0.000</td>\n",
       "      <td>0.009</td>\n",
       "    </tr>\n",
       "    <tr>\n",
       "      <th rowspan=\"2\" valign=\"top\">35</th>\n",
       "      <th rowspan=\"2\" valign=\"top\">TYR</th>\n",
       "      <th>317</th>\n",
       "      <td>0.000</td>\n",
       "      <td>0.000</td>\n",
       "    </tr>\n",
       "    <tr>\n",
       "      <th>318</th>\n",
       "      <td>0.183</td>\n",
       "      <td>0.000</td>\n",
       "    </tr>\n",
       "    <tr>\n",
       "      <th>43</th>\n",
       "      <th>ASP</th>\n",
       "      <th>320</th>\n",
       "      <td>0.000</td>\n",
       "      <td>0.000</td>\n",
       "    </tr>\n",
       "    <tr>\n",
       "      <th>...</th>\n",
       "      <th>...</th>\n",
       "      <th>...</th>\n",
       "      <th>...</th>\n",
       "      <td>...</td>\n",
       "      <td>...</td>\n",
       "    </tr>\n",
       "    <tr>\n",
       "      <th rowspan=\"5\" valign=\"top\">TYR</th>\n",
       "      <th rowspan=\"5\" valign=\"top\">318</th>\n",
       "      <th rowspan=\"4\" valign=\"top\">TYR</th>\n",
       "      <th>37</th>\n",
       "      <td>0.708</td>\n",
       "      <td>0.000</td>\n",
       "    </tr>\n",
       "    <tr>\n",
       "      <th>49</th>\n",
       "      <td>0.000</td>\n",
       "      <td>0.690</td>\n",
       "    </tr>\n",
       "    <tr>\n",
       "      <th>50</th>\n",
       "      <td>0.937</td>\n",
       "      <td>0.000</td>\n",
       "    </tr>\n",
       "    <tr>\n",
       "      <th>92</th>\n",
       "      <td>0.575</td>\n",
       "      <td>0.000</td>\n",
       "    </tr>\n",
       "    <tr>\n",
       "      <th>VAL</th>\n",
       "      <th>58</th>\n",
       "      <td>0.000</td>\n",
       "      <td>0.006</td>\n",
       "    </tr>\n",
       "  </tbody>\n",
       "</table>\n",
       "<p>154 rows × 2 columns</p>\n",
       "</div>"
      ],
      "text/plain": [
       "                              contact_frequency       \n",
       "                                       Wildtype Mashup\n",
       "res 1 number 1 res 2 number 2                         \n",
       "ALA   34       TYR   317                  0.000  0.008\n",
       "                     318                  0.000  0.009\n",
       "      35       TYR   317                  0.000  0.000\n",
       "                     318                  0.183  0.000\n",
       "      43       ASP   320                  0.000  0.000\n",
       "...                                         ...    ...\n",
       "TYR   318      TYR   37                   0.708  0.000\n",
       "                     49                   0.000  0.690\n",
       "                     50                   0.937  0.000\n",
       "                     92                   0.575  0.000\n",
       "               VAL   58                   0.000  0.006\n",
       "\n",
       "[154 rows x 2 columns]"
      ]
     },
     "execution_count": 12,
     "metadata": {},
     "output_type": "execute_result"
    }
   ],
   "source": [
    "merged_df = df_concat.unstack(level=-5, fill_value=0)\n",
    "merged_df"
   ]
  },
  {
   "cell_type": "markdown",
   "id": "8ea33a97",
   "metadata": {},
   "source": [
    "The data can be sorted as preferred."
   ]
  },
  {
   "cell_type": "code",
   "execution_count": 13,
   "id": "9f07abd5",
   "metadata": {},
   "outputs": [
    {
     "data": {
      "text/html": [
       "<div>\n",
       "<style scoped>\n",
       "    .dataframe tbody tr th:only-of-type {\n",
       "        vertical-align: middle;\n",
       "    }\n",
       "\n",
       "    .dataframe tbody tr th {\n",
       "        vertical-align: top;\n",
       "    }\n",
       "\n",
       "    .dataframe thead tr th {\n",
       "        text-align: left;\n",
       "    }\n",
       "\n",
       "    .dataframe thead tr:last-of-type th {\n",
       "        text-align: right;\n",
       "    }\n",
       "</style>\n",
       "<table border=\"1\" class=\"dataframe\">\n",
       "  <thead>\n",
       "    <tr>\n",
       "      <th></th>\n",
       "      <th></th>\n",
       "      <th></th>\n",
       "      <th></th>\n",
       "      <th colspan=\"2\" halign=\"left\">contact_frequency</th>\n",
       "    </tr>\n",
       "    <tr>\n",
       "      <th></th>\n",
       "      <th></th>\n",
       "      <th></th>\n",
       "      <th></th>\n",
       "      <th>Wildtype</th>\n",
       "      <th>Mashup</th>\n",
       "    </tr>\n",
       "    <tr>\n",
       "      <th>res 1</th>\n",
       "      <th>number 1</th>\n",
       "      <th>res 2</th>\n",
       "      <th>number 2</th>\n",
       "      <th></th>\n",
       "      <th></th>\n",
       "    </tr>\n",
       "  </thead>\n",
       "  <tbody>\n",
       "    <tr>\n",
       "      <th rowspan=\"4\" valign=\"top\">SER</th>\n",
       "      <th>30</th>\n",
       "      <th>TYR</th>\n",
       "      <th>317</th>\n",
       "      <td>0.000</td>\n",
       "      <td>0.000</td>\n",
       "    </tr>\n",
       "    <tr>\n",
       "      <th rowspan=\"2\" valign=\"top\">31</th>\n",
       "      <th rowspan=\"2\" valign=\"top\">TYR</th>\n",
       "      <th>317</th>\n",
       "      <td>0.000</td>\n",
       "      <td>0.005</td>\n",
       "    </tr>\n",
       "    <tr>\n",
       "      <th>318</th>\n",
       "      <td>0.000</td>\n",
       "      <td>0.002</td>\n",
       "    </tr>\n",
       "    <tr>\n",
       "      <th>32</th>\n",
       "      <th>TYR</th>\n",
       "      <th>317</th>\n",
       "      <td>0.004</td>\n",
       "      <td>0.000</td>\n",
       "    </tr>\n",
       "    <tr>\n",
       "      <th>LEU</th>\n",
       "      <th>33</th>\n",
       "      <th>TYR</th>\n",
       "      <th>318</th>\n",
       "      <td>0.000</td>\n",
       "      <td>0.001</td>\n",
       "    </tr>\n",
       "    <tr>\n",
       "      <th>...</th>\n",
       "      <th>...</th>\n",
       "      <th>...</th>\n",
       "      <th>...</th>\n",
       "      <td>...</td>\n",
       "      <td>...</td>\n",
       "    </tr>\n",
       "    <tr>\n",
       "      <th rowspan=\"5\" valign=\"top\">ASP</th>\n",
       "      <th rowspan=\"5\" valign=\"top\">320</th>\n",
       "      <th>TYR</th>\n",
       "      <th>50</th>\n",
       "      <td>0.000</td>\n",
       "      <td>0.000</td>\n",
       "    </tr>\n",
       "    <tr>\n",
       "      <th>GLN</th>\n",
       "      <th>55</th>\n",
       "      <td>0.000</td>\n",
       "      <td>0.234</td>\n",
       "    </tr>\n",
       "    <tr>\n",
       "      <th>SER</th>\n",
       "      <th>56</th>\n",
       "      <td>0.000</td>\n",
       "      <td>0.040</td>\n",
       "    </tr>\n",
       "    <tr>\n",
       "      <th>GLY</th>\n",
       "      <th>57</th>\n",
       "      <td>0.000</td>\n",
       "      <td>0.001</td>\n",
       "    </tr>\n",
       "    <tr>\n",
       "      <th>THR</th>\n",
       "      <th>57</th>\n",
       "      <td>0.000</td>\n",
       "      <td>0.000</td>\n",
       "    </tr>\n",
       "  </tbody>\n",
       "</table>\n",
       "<p>154 rows × 2 columns</p>\n",
       "</div>"
      ],
      "text/plain": [
       "                              contact_frequency       \n",
       "                                       Wildtype Mashup\n",
       "res 1 number 1 res 2 number 2                         \n",
       "SER   30       TYR   317                  0.000  0.000\n",
       "      31       TYR   317                  0.000  0.005\n",
       "                     318                  0.000  0.002\n",
       "      32       TYR   317                  0.004  0.000\n",
       "LEU   33       TYR   318                  0.000  0.001\n",
       "...                                         ...    ...\n",
       "ASP   320      TYR   50                   0.000  0.000\n",
       "               GLN   55                   0.000  0.234\n",
       "               SER   56                   0.000  0.040\n",
       "               GLY   57                   0.000  0.001\n",
       "               THR   57                   0.000  0.000\n",
       "\n",
       "[154 rows x 2 columns]"
      ]
     },
     "execution_count": 13,
     "metadata": {},
     "output_type": "execute_result"
    }
   ],
   "source": [
    "# sorting by value\n",
    "# merged_df.sort_values(by = [('contact_frequency', 'first'),\n",
    "#                             ('contact_frequency', 'second')],\n",
    "#                       ascending=False\n",
    "#)\n",
    "\n",
    "# sorting by residue number \n",
    "merged_df = merged_df.sort_index(level=['number 1', 'number 2'])\n",
    "merged_df"
   ]
  },
  {
   "cell_type": "markdown",
   "id": "6f4efbc3-cb41-43a0-9da9-f3027ca3ac8d",
   "metadata": {},
   "source": [
    "## Change the labels"
   ]
  },
  {
   "cell_type": "markdown",
   "id": "404f1613",
   "metadata": {},
   "source": [
    "For plotting with `heatmap` or `fingerprint` the dataframe may only have two index labels.\n",
    "The indices can be formated as preferred.\n",
    "\n",
    "Here, the dictionary `three2one` can be used to convert the amino acid three letter code to the one letter code.\n",
    "\n",
    "To remove the label on the x_axis the column label _contact_frequency_ has to be removed."
   ]
  },
  {
   "cell_type": "code",
   "execution_count": 14,
   "id": "17484eb0",
   "metadata": {},
   "outputs": [
    {
     "data": {
      "text/plain": [
       "MultiIndex([('S030', 'Y317'),\n",
       "            ('S031', 'Y317'),\n",
       "            ('S031', 'Y318'),\n",
       "            ('S032', 'Y317'),\n",
       "            ('L033', 'Y318'),\n",
       "            ('A034', 'Y317'),\n",
       "            ('A034', 'Y318'),\n",
       "            ('A035', 'Y317'),\n",
       "            ('A035', 'Y318'),\n",
       "            ('K042', 'Y321'),\n",
       "            ...\n",
       "            ('D320', 'Y036'),\n",
       "            ('D320', 'P044'),\n",
       "            ('D320', 'K045'),\n",
       "            ('D320', 'L046'),\n",
       "            ('D320', 'L047'),\n",
       "            ('D320', 'Y050'),\n",
       "            ('D320', 'Q055'),\n",
       "            ('D320', 'S056'),\n",
       "            ('D320', 'G057'),\n",
       "            ('D320', 'T057')],\n",
       "           length=154)"
      ]
     },
     "execution_count": 14,
     "metadata": {},
     "output_type": "execute_result"
    }
   ],
   "source": [
    "# example on how to create labels using one_letter_code\n",
    "pd.MultiIndex.from_arrays(\n",
    "    zip(*[(f\"{freq.three2one[res1]}{num1:03}\", f\"{freq.three2one[res2]}{num2:03}\") for res1, num1, res2, num2 in merged_df.index])\n",
    ")"
   ]
  },
  {
   "cell_type": "code",
   "execution_count": 15,
   "id": "e3d61539",
   "metadata": {},
   "outputs": [
    {
     "data": {
      "text/html": [
       "<div>\n",
       "<style scoped>\n",
       "    .dataframe tbody tr th:only-of-type {\n",
       "        vertical-align: middle;\n",
       "    }\n",
       "\n",
       "    .dataframe tbody tr th {\n",
       "        vertical-align: top;\n",
       "    }\n",
       "\n",
       "    .dataframe thead th {\n",
       "        text-align: right;\n",
       "    }\n",
       "</style>\n",
       "<table border=\"1\" class=\"dataframe\">\n",
       "  <thead>\n",
       "    <tr style=\"text-align: right;\">\n",
       "      <th></th>\n",
       "      <th></th>\n",
       "      <th>Wildtype</th>\n",
       "      <th>Mashup</th>\n",
       "    </tr>\n",
       "  </thead>\n",
       "  <tbody>\n",
       "    <tr>\n",
       "      <th>SER030</th>\n",
       "      <th>TYR317</th>\n",
       "      <td>0.000</td>\n",
       "      <td>0.000</td>\n",
       "    </tr>\n",
       "    <tr>\n",
       "      <th rowspan=\"2\" valign=\"top\">SER031</th>\n",
       "      <th>TYR317</th>\n",
       "      <td>0.000</td>\n",
       "      <td>0.005</td>\n",
       "    </tr>\n",
       "    <tr>\n",
       "      <th>TYR318</th>\n",
       "      <td>0.000</td>\n",
       "      <td>0.002</td>\n",
       "    </tr>\n",
       "    <tr>\n",
       "      <th>SER032</th>\n",
       "      <th>TYR317</th>\n",
       "      <td>0.004</td>\n",
       "      <td>0.000</td>\n",
       "    </tr>\n",
       "    <tr>\n",
       "      <th>LEU033</th>\n",
       "      <th>TYR318</th>\n",
       "      <td>0.000</td>\n",
       "      <td>0.001</td>\n",
       "    </tr>\n",
       "    <tr>\n",
       "      <th>...</th>\n",
       "      <th>...</th>\n",
       "      <td>...</td>\n",
       "      <td>...</td>\n",
       "    </tr>\n",
       "    <tr>\n",
       "      <th rowspan=\"5\" valign=\"top\">ASP320</th>\n",
       "      <th>TYR050</th>\n",
       "      <td>0.000</td>\n",
       "      <td>0.000</td>\n",
       "    </tr>\n",
       "    <tr>\n",
       "      <th>GLN055</th>\n",
       "      <td>0.000</td>\n",
       "      <td>0.234</td>\n",
       "    </tr>\n",
       "    <tr>\n",
       "      <th>SER056</th>\n",
       "      <td>0.000</td>\n",
       "      <td>0.040</td>\n",
       "    </tr>\n",
       "    <tr>\n",
       "      <th>GLY057</th>\n",
       "      <td>0.000</td>\n",
       "      <td>0.001</td>\n",
       "    </tr>\n",
       "    <tr>\n",
       "      <th>THR057</th>\n",
       "      <td>0.000</td>\n",
       "      <td>0.000</td>\n",
       "    </tr>\n",
       "  </tbody>\n",
       "</table>\n",
       "<p>154 rows × 2 columns</p>\n",
       "</div>"
      ],
      "text/plain": [
       "               Wildtype  Mashup\n",
       "SER030 TYR317     0.000   0.000\n",
       "SER031 TYR317     0.000   0.005\n",
       "       TYR318     0.000   0.002\n",
       "SER032 TYR317     0.004   0.000\n",
       "LEU033 TYR318     0.000   0.001\n",
       "...                 ...     ...\n",
       "ASP320 TYR050     0.000   0.000\n",
       "       GLN055     0.000   0.234\n",
       "       SER056     0.000   0.040\n",
       "       GLY057     0.000   0.001\n",
       "       THR057     0.000   0.000\n",
       "\n",
       "[154 rows x 2 columns]"
      ]
     },
     "execution_count": 15,
     "metadata": {},
     "output_type": "execute_result"
    }
   ],
   "source": [
    "# simple example on how to 'merge' the labels\n",
    "merged_df.index = pd.MultiIndex.from_arrays(\n",
    "    zip(*[(f\"{res1}{num1:03}\", f\"{res2}{num2:03}\") for res1, num1, res2, num2 in merged_df.index])\n",
    ")\n",
    "# removing the 'conact_frequency' label\n",
    "merged_df.columns = [name for _, name in merged_df.columns]\n",
    "\n",
    "merged_df"
   ]
  },
  {
   "cell_type": "markdown",
   "id": "44afa0b2",
   "metadata": {
    "tags": []
   },
   "source": [
    "## Apply a cutoff\n",
    "\n",
    "All contact_frequencies with a frequency lower than the cutoff are discarded for plotting."
   ]
  },
  {
   "cell_type": "code",
   "execution_count": 16,
   "id": "39877059-2683-4876-a594-a5d91535e213",
   "metadata": {},
   "outputs": [],
   "source": [
    "CUTOFF = 0.6"
   ]
  },
  {
   "cell_type": "code",
   "execution_count": 17,
   "id": "f8fdd7e1-a196-484f-ac04-b88aef431aab",
   "metadata": {},
   "outputs": [
    {
     "data": {
      "text/html": [
       "<div>\n",
       "<style scoped>\n",
       "    .dataframe tbody tr th:only-of-type {\n",
       "        vertical-align: middle;\n",
       "    }\n",
       "\n",
       "    .dataframe tbody tr th {\n",
       "        vertical-align: top;\n",
       "    }\n",
       "\n",
       "    .dataframe thead th {\n",
       "        text-align: right;\n",
       "    }\n",
       "</style>\n",
       "<table border=\"1\" class=\"dataframe\">\n",
       "  <thead>\n",
       "    <tr style=\"text-align: right;\">\n",
       "      <th></th>\n",
       "      <th></th>\n",
       "      <th>Wildtype</th>\n",
       "      <th>Mashup</th>\n",
       "    </tr>\n",
       "  </thead>\n",
       "  <tbody>\n",
       "    <tr>\n",
       "      <th>LEU046</th>\n",
       "      <th>TYR318</th>\n",
       "      <td>0.000</td>\n",
       "      <td>0.627</td>\n",
       "    </tr>\n",
       "    <tr>\n",
       "      <th>LEU047</th>\n",
       "      <th>TYR318</th>\n",
       "      <td>0.885</td>\n",
       "      <td>0.001</td>\n",
       "    </tr>\n",
       "    <tr>\n",
       "      <th>GLN055</th>\n",
       "      <th>TYR318</th>\n",
       "      <td>0.000</td>\n",
       "      <td>0.664</td>\n",
       "    </tr>\n",
       "    <tr>\n",
       "      <th rowspan=\"3\" valign=\"top\">ARG097</th>\n",
       "      <th>ASP313</th>\n",
       "      <td>0.673</td>\n",
       "      <td>0.000</td>\n",
       "    </tr>\n",
       "    <tr>\n",
       "      <th>TYR317</th>\n",
       "      <td>0.738</td>\n",
       "      <td>0.000</td>\n",
       "    </tr>\n",
       "    <tr>\n",
       "      <th>PHE319</th>\n",
       "      <td>0.632</td>\n",
       "      <td>0.000</td>\n",
       "    </tr>\n",
       "    <tr>\n",
       "      <th>TYR317</th>\n",
       "      <th>TYR092</th>\n",
       "      <td>0.965</td>\n",
       "      <td>0.000</td>\n",
       "    </tr>\n",
       "    <tr>\n",
       "      <th rowspan=\"3\" valign=\"top\">TYR318</th>\n",
       "      <th>TYR037</th>\n",
       "      <td>0.708</td>\n",
       "      <td>0.000</td>\n",
       "    </tr>\n",
       "    <tr>\n",
       "      <th>TYR049</th>\n",
       "      <td>0.000</td>\n",
       "      <td>0.690</td>\n",
       "    </tr>\n",
       "    <tr>\n",
       "      <th>TYR050</th>\n",
       "      <td>0.937</td>\n",
       "      <td>0.000</td>\n",
       "    </tr>\n",
       "    <tr>\n",
       "      <th rowspan=\"2\" valign=\"top\">PHE319</th>\n",
       "      <th>TYR037</th>\n",
       "      <td>0.973</td>\n",
       "      <td>0.000</td>\n",
       "    </tr>\n",
       "    <tr>\n",
       "      <th>PHE099</th>\n",
       "      <td>0.693</td>\n",
       "      <td>0.028</td>\n",
       "    </tr>\n",
       "  </tbody>\n",
       "</table>\n",
       "</div>"
      ],
      "text/plain": [
       "               Wildtype  Mashup\n",
       "LEU046 TYR318     0.000   0.627\n",
       "LEU047 TYR318     0.885   0.001\n",
       "GLN055 TYR318     0.000   0.664\n",
       "ARG097 ASP313     0.673   0.000\n",
       "       TYR317     0.738   0.000\n",
       "       PHE319     0.632   0.000\n",
       "TYR317 TYR092     0.965   0.000\n",
       "TYR318 TYR037     0.708   0.000\n",
       "       TYR049     0.000   0.690\n",
       "       TYR050     0.937   0.000\n",
       "PHE319 TYR037     0.973   0.000\n",
       "       PHE099     0.693   0.028"
      ]
     },
     "execution_count": 17,
     "metadata": {},
     "output_type": "execute_result"
    }
   ],
   "source": [
    "#absolute cutoff\n",
    "merged_df[(merged_df > CUTOFF).any(axis=1)]"
   ]
  },
  {
   "cell_type": "code",
   "execution_count": 18,
   "id": "c5eb9986",
   "metadata": {},
   "outputs": [
    {
     "data": {
      "text/html": [
       "<div>\n",
       "<style scoped>\n",
       "    .dataframe tbody tr th:only-of-type {\n",
       "        vertical-align: middle;\n",
       "    }\n",
       "\n",
       "    .dataframe tbody tr th {\n",
       "        vertical-align: top;\n",
       "    }\n",
       "\n",
       "    .dataframe thead th {\n",
       "        text-align: right;\n",
       "    }\n",
       "</style>\n",
       "<table border=\"1\" class=\"dataframe\">\n",
       "  <thead>\n",
       "    <tr style=\"text-align: right;\">\n",
       "      <th></th>\n",
       "      <th></th>\n",
       "      <th>Wildtype</th>\n",
       "      <th>Mashup</th>\n",
       "    </tr>\n",
       "  </thead>\n",
       "  <tbody>\n",
       "    <tr>\n",
       "      <th>LEU046</th>\n",
       "      <th>TYR318</th>\n",
       "      <td>0.000</td>\n",
       "      <td>0.627</td>\n",
       "    </tr>\n",
       "    <tr>\n",
       "      <th>LEU047</th>\n",
       "      <th>TYR318</th>\n",
       "      <td>0.885</td>\n",
       "      <td>0.001</td>\n",
       "    </tr>\n",
       "    <tr>\n",
       "      <th>GLN055</th>\n",
       "      <th>TYR318</th>\n",
       "      <td>0.000</td>\n",
       "      <td>0.664</td>\n",
       "    </tr>\n",
       "    <tr>\n",
       "      <th rowspan=\"3\" valign=\"top\">ARG097</th>\n",
       "      <th>ASP313</th>\n",
       "      <td>0.673</td>\n",
       "      <td>0.000</td>\n",
       "    </tr>\n",
       "    <tr>\n",
       "      <th>TYR317</th>\n",
       "      <td>0.738</td>\n",
       "      <td>0.000</td>\n",
       "    </tr>\n",
       "    <tr>\n",
       "      <th>PHE319</th>\n",
       "      <td>0.632</td>\n",
       "      <td>0.000</td>\n",
       "    </tr>\n",
       "    <tr>\n",
       "      <th>TYR317</th>\n",
       "      <th>TYR092</th>\n",
       "      <td>0.965</td>\n",
       "      <td>0.000</td>\n",
       "    </tr>\n",
       "    <tr>\n",
       "      <th rowspan=\"3\" valign=\"top\">TYR318</th>\n",
       "      <th>TYR037</th>\n",
       "      <td>0.708</td>\n",
       "      <td>0.000</td>\n",
       "    </tr>\n",
       "    <tr>\n",
       "      <th>TYR049</th>\n",
       "      <td>0.000</td>\n",
       "      <td>0.690</td>\n",
       "    </tr>\n",
       "    <tr>\n",
       "      <th>TYR050</th>\n",
       "      <td>0.937</td>\n",
       "      <td>0.000</td>\n",
       "    </tr>\n",
       "    <tr>\n",
       "      <th rowspan=\"2\" valign=\"top\">PHE319</th>\n",
       "      <th>TYR037</th>\n",
       "      <td>0.973</td>\n",
       "      <td>0.000</td>\n",
       "    </tr>\n",
       "    <tr>\n",
       "      <th>PHE099</th>\n",
       "      <td>0.693</td>\n",
       "      <td>0.028</td>\n",
       "    </tr>\n",
       "  </tbody>\n",
       "</table>\n",
       "</div>"
      ],
      "text/plain": [
       "               Wildtype  Mashup\n",
       "LEU046 TYR318     0.000   0.627\n",
       "LEU047 TYR318     0.885   0.001\n",
       "GLN055 TYR318     0.000   0.664\n",
       "ARG097 ASP313     0.673   0.000\n",
       "       TYR317     0.738   0.000\n",
       "       PHE319     0.632   0.000\n",
       "TYR317 TYR092     0.965   0.000\n",
       "TYR318 TYR037     0.708   0.000\n",
       "       TYR049     0.000   0.690\n",
       "       TYR050     0.937   0.000\n",
       "PHE319 TYR037     0.973   0.000\n",
       "       PHE099     0.693   0.028"
      ]
     },
     "execution_count": 18,
     "metadata": {},
     "output_type": "execute_result"
    }
   ],
   "source": [
    "# relative cutoff\n",
    "merged_df[abs(merged_df[some_freq_ab1.name]-merged_df[some_freq_ab2.name]) > CUTOFF]"
   ]
  },
  {
   "cell_type": "code",
   "execution_count": 19,
   "id": "a46e7cc9",
   "metadata": {},
   "outputs": [
    {
     "data": {
      "text/html": [
       "<div>\n",
       "<style scoped>\n",
       "    .dataframe tbody tr th:only-of-type {\n",
       "        vertical-align: middle;\n",
       "    }\n",
       "\n",
       "    .dataframe tbody tr th {\n",
       "        vertical-align: top;\n",
       "    }\n",
       "\n",
       "    .dataframe thead th {\n",
       "        text-align: right;\n",
       "    }\n",
       "</style>\n",
       "<table border=\"1\" class=\"dataframe\">\n",
       "  <thead>\n",
       "    <tr style=\"text-align: right;\">\n",
       "      <th></th>\n",
       "      <th></th>\n",
       "      <th>Wildtype</th>\n",
       "      <th>Mashup</th>\n",
       "    </tr>\n",
       "  </thead>\n",
       "  <tbody>\n",
       "    <tr>\n",
       "      <th>LEU046</th>\n",
       "      <th>TYR318</th>\n",
       "      <td>0.000</td>\n",
       "      <td>0.627</td>\n",
       "    </tr>\n",
       "    <tr>\n",
       "      <th>LEU047</th>\n",
       "      <th>TYR318</th>\n",
       "      <td>0.885</td>\n",
       "      <td>0.001</td>\n",
       "    </tr>\n",
       "    <tr>\n",
       "      <th>GLN055</th>\n",
       "      <th>TYR318</th>\n",
       "      <td>0.000</td>\n",
       "      <td>0.664</td>\n",
       "    </tr>\n",
       "    <tr>\n",
       "      <th rowspan=\"3\" valign=\"top\">ARG097</th>\n",
       "      <th>ASP313</th>\n",
       "      <td>0.673</td>\n",
       "      <td>0.000</td>\n",
       "    </tr>\n",
       "    <tr>\n",
       "      <th>TYR317</th>\n",
       "      <td>0.738</td>\n",
       "      <td>0.000</td>\n",
       "    </tr>\n",
       "    <tr>\n",
       "      <th>PHE319</th>\n",
       "      <td>0.632</td>\n",
       "      <td>0.000</td>\n",
       "    </tr>\n",
       "    <tr>\n",
       "      <th>TYR317</th>\n",
       "      <th>TYR092</th>\n",
       "      <td>0.965</td>\n",
       "      <td>0.000</td>\n",
       "    </tr>\n",
       "    <tr>\n",
       "      <th rowspan=\"3\" valign=\"top\">TYR318</th>\n",
       "      <th>TYR037</th>\n",
       "      <td>0.708</td>\n",
       "      <td>0.000</td>\n",
       "    </tr>\n",
       "    <tr>\n",
       "      <th>TYR049</th>\n",
       "      <td>0.000</td>\n",
       "      <td>0.690</td>\n",
       "    </tr>\n",
       "    <tr>\n",
       "      <th>TYR050</th>\n",
       "      <td>0.937</td>\n",
       "      <td>0.000</td>\n",
       "    </tr>\n",
       "    <tr>\n",
       "      <th rowspan=\"2\" valign=\"top\">PHE319</th>\n",
       "      <th>TYR037</th>\n",
       "      <td>0.973</td>\n",
       "      <td>0.000</td>\n",
       "    </tr>\n",
       "    <tr>\n",
       "      <th>PHE099</th>\n",
       "      <td>0.693</td>\n",
       "      <td>0.028</td>\n",
       "    </tr>\n",
       "  </tbody>\n",
       "</table>\n",
       "</div>"
      ],
      "text/plain": [
       "               Wildtype  Mashup\n",
       "LEU046 TYR318     0.000   0.627\n",
       "LEU047 TYR318     0.885   0.001\n",
       "GLN055 TYR318     0.000   0.664\n",
       "ARG097 ASP313     0.673   0.000\n",
       "       TYR317     0.738   0.000\n",
       "       PHE319     0.632   0.000\n",
       "TYR317 TYR092     0.965   0.000\n",
       "TYR318 TYR037     0.708   0.000\n",
       "       TYR049     0.000   0.690\n",
       "       TYR050     0.937   0.000\n",
       "PHE319 TYR037     0.973   0.000\n",
       "       PHE099     0.693   0.028"
      ]
     },
     "execution_count": 19,
     "metadata": {},
     "output_type": "execute_result"
    }
   ],
   "source": [
    "# relative if more than two systems have been merged\n",
    "merged_cut_df = merged_df[merged_df.max(axis=1)-merged_df.min(axis=1) > CUTOFF]\n",
    "merged_cut_df"
   ]
  },
  {
   "cell_type": "markdown",
   "id": "c4e57847-52e0-434b-af8a-d5bc592b5652",
   "metadata": {},
   "source": [
    "# Visualize the frequencies"
   ]
  },
  {
   "cell_type": "markdown",
   "id": "01e7a6b1-d49c-4c3e-a35b-2f00c33a626f",
   "metadata": {},
   "source": [
    "## Flareplots"
   ]
  },
  {
   "cell_type": "markdown",
   "id": "05922235-42d9-4b76-87f2-a9321008c990",
   "metadata": {},
   "source": [
    "To visualize a single systems contacts the method `Frequency.flare` can be used. "
   ]
  },
  {
   "cell_type": "code",
   "execution_count": 20,
   "id": "acc852fd-36dc-4403-b1a6-8fcb847f5936",
   "metadata": {},
   "outputs": [
    {
     "name": "stderr",
     "output_type": "stream",
     "text": [
      "/Users/janik/Documents/GetContacts_analysis/gc_analysis/freq.py:185: UserWarning: Please consider using `flareplot` instead.\n",
      "  warnings.warn(\"Please consider using `flareplot` instead.\")\n"
     ]
    },
    {
     "data": {
      "image/png": "[encoded data removed]",
      "text/plain": [
       "<Figure size 432x288 with 2 Axes>"
      ]
     },
     "metadata": {
      "needs_background": "light"
     },
     "output_type": "display_data"
    }
   ],
   "source": [
    "fig = some_freq_ab1.flare(cmap='turbo', fontsize=12, linewidth=8, one_letter=False, cbar=True, cutoff=0.4)"
   ]
  },
  {
   "cell_type": "code",
   "execution_count": 21,
   "id": "633c2d5c-feab-4a26-87b6-00d9b58c4b4e",
   "metadata": {},
   "outputs": [
    {
     "name": "stderr",
     "output_type": "stream",
     "text": [
      "/Users/janik/Documents/GetContacts_analysis/gc_analysis/freq.py:185: UserWarning: Please consider using `flareplot` instead.\n",
      "  warnings.warn(\"Please consider using `flareplot` instead.\")\n"
     ]
    },
    {
     "data": {
      "image/png": "[encoded data removed]",
      "text/plain": [
       "<Figure size 432x288 with 2 Axes>"
      ]
     },
     "metadata": {
      "needs_background": "light"
     },
     "output_type": "display_data"
    }
   ],
   "source": [
    "fig = some_freq_ab2.flare(cmap='Greys', fontsize=15, linewidth=6, cbar=True, cutoff=0.2)"
   ]
  },
  {
   "cell_type": "markdown",
   "id": "cfe5ded1-eaa1-460a-a8ca-0c2f33837911",
   "metadata": {},
   "source": [
    "## Fingerprints and heatmaps"
   ]
  },
  {
   "cell_type": "markdown",
   "id": "f95b9290",
   "metadata": {},
   "source": [
    "The functions `fingerprint` and `heatmap` can be used to compare two systems.\n",
    "`fingerprint` clusters the data internally using a hierarchical clustering, while `heatmap` plots the data in the same order as they appear in the DataFrame.\n",
    "\n",
    "The labels in the plot match the indices of the DataFrame. To change the labels of the plot, the indices of the DataFrame have to be changed."
   ]
  },
  {
   "cell_type": "code",
   "execution_count": 22,
   "id": "48be4d51-aa69-4641-ab22-1199c2c656f6",
   "metadata": {},
   "outputs": [],
   "source": [
    "import gc_analysis"
   ]
  },
  {
   "cell_type": "code",
   "execution_count": 23,
   "id": "86df88d1-6135-49dd-9abc-77db0838741c",
   "metadata": {},
   "outputs": [
    {
     "data": {
      "image/png": "[encoded data removed]",
      "text/plain": [
       "<Figure size 302.992x302.992 with 4 Axes>"
      ]
     },
     "metadata": {
      "needs_background": "light"
     },
     "output_type": "display_data"
    }
   ],
   "source": [
    "fp = gc_analysis.fingerprint(\n",
    "    data = merged_cut_df, \n",
    "    cmap = 'Greens', \n",
    "    cbar_pos=(2.6, 0.05, 0.1, 0.38) #(x, y, dx, dy)\n",
    ")\n",
    "fp.align_labels(factor=2.1)\n",
    "None"
   ]
  },
  {
   "cell_type": "code",
   "execution_count": 24,
   "id": "1cf5eaf3",
   "metadata": {},
   "outputs": [
    {
     "data": {
      "image/png": "[encoded data removed]",
      "text/plain": [
       "<Figure size 1192.05x794.702 with 2 Axes>"
      ]
     },
     "metadata": {
      "needs_background": "light"
     },
     "output_type": "display_data"
    }
   ],
   "source": [
    "hm = gc_analysis.heatmap(\n",
    "    data = merged_cut_df, \n",
    "    cmap = 'Reds',\n",
    ")\n",
    "hm.norm_fig_size(50)\n",
    "hm.align_labels(factor=-0.5)\n",
    "None"
   ]
  },
  {
   "cell_type": "markdown",
   "id": "35375796-979d-4416-82d6-f52097a8ec28",
   "metadata": {},
   "source": [
    "# Compare more than two systems\n",
    "\n",
    "Comparing more than two systems is easy. It is done exactly the same way as before."
   ]
  },
  {
   "cell_type": "code",
   "execution_count": 25,
   "id": "c00821bc",
   "metadata": {},
   "outputs": [],
   "source": [
    "some_freq_ab3 = some_freq_ab2"
   ]
  },
  {
   "cell_type": "code",
   "execution_count": 26,
   "id": "f5ef2c23",
   "metadata": {},
   "outputs": [
    {
     "data": {
      "text/html": [
       "<div>\n",
       "<style scoped>\n",
       "    .dataframe tbody tr th:only-of-type {\n",
       "        vertical-align: middle;\n",
       "    }\n",
       "\n",
       "    .dataframe tbody tr th {\n",
       "        vertical-align: top;\n",
       "    }\n",
       "\n",
       "    .dataframe thead th {\n",
       "        text-align: right;\n",
       "    }\n",
       "</style>\n",
       "<table border=\"1\" class=\"dataframe\">\n",
       "  <thead>\n",
       "    <tr style=\"text-align: right;\">\n",
       "      <th></th>\n",
       "      <th></th>\n",
       "      <th>first</th>\n",
       "      <th>second</th>\n",
       "      <th>third</th>\n",
       "    </tr>\n",
       "  </thead>\n",
       "  <tbody>\n",
       "    <tr>\n",
       "      <th>LEU046</th>\n",
       "      <th>TYR318</th>\n",
       "      <td>0.000</td>\n",
       "      <td>0.627</td>\n",
       "      <td>0.627</td>\n",
       "    </tr>\n",
       "    <tr>\n",
       "      <th>LEU047</th>\n",
       "      <th>TYR318</th>\n",
       "      <td>0.885</td>\n",
       "      <td>0.001</td>\n",
       "      <td>0.001</td>\n",
       "    </tr>\n",
       "    <tr>\n",
       "      <th>GLN055</th>\n",
       "      <th>TYR318</th>\n",
       "      <td>0.000</td>\n",
       "      <td>0.664</td>\n",
       "      <td>0.664</td>\n",
       "    </tr>\n",
       "    <tr>\n",
       "      <th rowspan=\"3\" valign=\"top\">ARG097</th>\n",
       "      <th>ASP313</th>\n",
       "      <td>0.673</td>\n",
       "      <td>0.000</td>\n",
       "      <td>0.000</td>\n",
       "    </tr>\n",
       "    <tr>\n",
       "      <th>TYR317</th>\n",
       "      <td>0.738</td>\n",
       "      <td>0.000</td>\n",
       "      <td>0.000</td>\n",
       "    </tr>\n",
       "    <tr>\n",
       "      <th>PHE319</th>\n",
       "      <td>0.632</td>\n",
       "      <td>0.000</td>\n",
       "      <td>0.000</td>\n",
       "    </tr>\n",
       "    <tr>\n",
       "      <th>TYR317</th>\n",
       "      <th>TYR092</th>\n",
       "      <td>0.965</td>\n",
       "      <td>0.000</td>\n",
       "      <td>0.000</td>\n",
       "    </tr>\n",
       "    <tr>\n",
       "      <th rowspan=\"3\" valign=\"top\">TYR318</th>\n",
       "      <th>TYR037</th>\n",
       "      <td>0.708</td>\n",
       "      <td>0.000</td>\n",
       "      <td>0.000</td>\n",
       "    </tr>\n",
       "    <tr>\n",
       "      <th>TYR049</th>\n",
       "      <td>0.000</td>\n",
       "      <td>0.690</td>\n",
       "      <td>0.690</td>\n",
       "    </tr>\n",
       "    <tr>\n",
       "      <th>TYR050</th>\n",
       "      <td>0.937</td>\n",
       "      <td>0.000</td>\n",
       "      <td>0.000</td>\n",
       "    </tr>\n",
       "    <tr>\n",
       "      <th rowspan=\"2\" valign=\"top\">PHE319</th>\n",
       "      <th>TYR037</th>\n",
       "      <td>0.973</td>\n",
       "      <td>0.000</td>\n",
       "      <td>0.000</td>\n",
       "    </tr>\n",
       "    <tr>\n",
       "      <th>PHE099</th>\n",
       "      <td>0.693</td>\n",
       "      <td>0.028</td>\n",
       "      <td>0.028</td>\n",
       "    </tr>\n",
       "  </tbody>\n",
       "</table>\n",
       "</div>"
      ],
      "text/plain": [
       "               first  second  third\n",
       "LEU046 TYR318  0.000   0.627  0.627\n",
       "LEU047 TYR318  0.885   0.001  0.001\n",
       "GLN055 TYR318  0.000   0.664  0.664\n",
       "ARG097 ASP313  0.673   0.000  0.000\n",
       "       TYR317  0.738   0.000  0.000\n",
       "       PHE319  0.632   0.000  0.000\n",
       "TYR317 TYR092  0.965   0.000  0.000\n",
       "TYR318 TYR037  0.708   0.000  0.000\n",
       "       TYR049  0.000   0.690  0.690\n",
       "       TYR050  0.937   0.000  0.000\n",
       "PHE319 TYR037  0.973   0.000  0.000\n",
       "       PHE099  0.693   0.028  0.028"
      ]
     },
     "execution_count": 26,
     "metadata": {},
     "output_type": "execute_result"
    }
   ],
   "source": [
    "# merging the data\n",
    "df_concat = pd.concat(\n",
    "    [\n",
    "        some_freq_ab1.df.set_index(keys=['res 1', 'number 1', 'res 2', 'number 2']),\n",
    "        some_freq_ab2.df.set_index(keys=['res 1', 'number 1', 'res 2', 'number 2']),\n",
    "        some_freq_ab3.df.set_index(keys=['res 1', 'number 1', 'res 2', 'number 2'])\n",
    "    ],\n",
    "    keys = ['first', 'second', 'third']\n",
    ")\n",
    "\n",
    "# expand the 'contact_frequency' column so that the three systems are in seperate columns\n",
    "merged_df = df_concat.unstack(level=-5, fill_value=0)\n",
    "\n",
    "# sort the data\n",
    "merged_df = merged_df.sort_index(level=['number 1', 'number 2'])\n",
    "\n",
    "# changing the labels as preferred\n",
    "merged_df.index = pd.MultiIndex.from_arrays(\n",
    "    zip(*[(f\"{res1}{num1:03}\", f\"{res2}{num2:03}\") for res1, num1, res2, num2 in merged_df.index])\n",
    ")\n",
    "# removing 'contact_frequency' as a label for the plots\n",
    "merged_df.columns = [name for _, name in merged_df.columns]\n",
    "\n",
    "#applying a cutoff\n",
    "CUTOFF = 0.6\n",
    "merged_cut_df_expanded = merged_df[merged_df.max(axis=1)-merged_df.min(axis=1) > CUTOFF]\n",
    "merged_cut_df_expanded"
   ]
  },
  {
   "cell_type": "code",
   "execution_count": 27,
   "id": "fec05340-1808-4fda-84af-1d0f8f8fed21",
   "metadata": {},
   "outputs": [
    {
     "data": {
      "image/png": "[encoded data removed]",
      "text/plain": [
       "<Figure size 454.488x454.488 with 4 Axes>"
      ]
     },
     "metadata": {
      "needs_background": "light"
     },
     "output_type": "display_data"
    }
   ],
   "source": [
    "fig = gc_analysis.fingerprint(\n",
    "    data = merged_cut_df_expanded, \n",
    "    cmap = 'Purples',\n",
    ")"
   ]
  },
  {
   "cell_type": "code",
   "execution_count": 28,
   "id": "2229dbe6",
   "metadata": {},
   "outputs": [
    {
     "data": {
      "image/png": "[encoded data removed]",
      "text/plain": [
       "<Figure size 1192.05x794.702 with 2 Axes>"
      ]
     },
     "metadata": {
      "needs_background": "light"
     },
     "output_type": "display_data"
    }
   ],
   "source": [
    "hm = gc_analysis.heatmap(\n",
    "    data = merged_cut_df_expanded, \n",
    "    cmap = 'Greens',\n",
    ")\n",
    "hm.norm_fig_size(50)\n",
    "hm.align_labels(factor=-0.5)\n",
    "None"
   ]
  }
 ],
 "metadata": {
  "hide_input": false,
  "kernelspec": {
   "display_name": "Python 3 (ipykernel)",
   "language": "python",
   "name": "python3"
  },
  "language_info": {
   "codemirror_mode": {
    "name": "ipython",
    "version": 3
   },
   "file_extension": ".py",
   "mimetype": "text/x-python",
   "name": "python",
   "nbconvert_exporter": "python",
   "pygments_lexer": "ipython3",
   "version": "3.10.4"
  },
  "toc": {
   "base_numbering": 1,
   "nav_menu": {},
   "number_sections": true,
   "sideBar": true,
   "skip_h1_title": false,
   "title_cell": "Table of Contents",
   "title_sidebar": "Contents",
   "toc_cell": true,
   "toc_position": {},
   "toc_section_display": true,
   "toc_window_display": true
  },
  "toc-autonumbering": true,
  "toc-showcode": false,
  "toc-showtags": false
 },
 "nbformat": 4,
 "nbformat_minor": 5
}
